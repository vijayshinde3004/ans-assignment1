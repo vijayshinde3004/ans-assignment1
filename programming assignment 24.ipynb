{
 "cells": [
  {
   "cell_type": "code",
   "execution_count": null,
   "id": "c3aa79a5",
   "metadata": {},
   "outputs": [],
   "source": [
    "1.Create a function that takes an integer and returns a list from 1 to the given number, where:\n",
    "1.If the number can be divided evenly by 4, amplify it by 10 (i.e. return 10 times the number).\n",
    "2.If the number cannot be divided evenly by 4, simply return the number.\n",
    "\n",
    "Examples:\n",
    "amplify(4) ➞ [1, 2, 3, 40]\n",
    "amplify(3) ➞ [1, 2, 3]\n",
    "amplify(25) ➞ [1, 2, 3, 40, 5, 6, 7, 80, 9, 10, 11, 120, 13, 14, 15, 160, 17, 18, 19, 200, 21, 22, 23, 240, 25]\n",
    "\n",
    "Notes:\n",
    "1.The given integer will always be equal to or greater than 1.\n",
    "2.Include the number (see example above).\n",
    "3.To perform this problem with its intended purpose, try doing it with list"
   ]
  },
  {
   "cell_type": "code",
   "execution_count": 1,
   "id": "e8870577",
   "metadata": {},
   "outputs": [
    {
     "name": "stdout",
     "output_type": "stream",
     "text": [
      "4 [1, 2, 3, 40]\n",
      "3 [1, 2, 3]\n",
      "25 [1, 2, 3, 40, 5, 6, 7, 80, 9, 10, 11, 120, 13, 14, 15, 160, 17, 18, 19, 200, 21, 22, 23, 240, 25]\n"
     ]
    }
   ],
   "source": [
    "def amplify(in_num):\n",
    "    out_list = []\n",
    "    for ele in range(1,in_num+1):\n",
    "        if ele%4 == 0:\n",
    "            out_list.append(ele*10)\n",
    "        else:\n",
    "            out_list.append(ele)\n",
    "    print(in_num,out_list)\n",
    "            \n",
    "amplify(4)\n",
    "amplify(3)\n",
    "amplify(25)"
   ]
  },
  {
   "cell_type": "code",
   "execution_count": null,
   "id": "ecf9c8bf",
   "metadata": {},
   "outputs": [],
   "source": [
    "2.Create a function that takes a list of numbers and return the number that's unique.\n",
    "Examples:\n",
    "unique([3, 3, 3, 7, 3, 3]) ➞ 7\n",
    "unique([0, 0, 0.77, 0, 0]) ➞ 0.77\n",
    "unique([0, 1, 1, 1, 1, 1, 1, 1]) ➞ 0\n",
    "\n",
    "Notes:\n",
    "Test cases will always have exactly one unique number while all others are the same."
   ]
  },
  {
   "cell_type": "code",
   "execution_count": 2,
   "id": "5bb23053",
   "metadata": {},
   "outputs": [
    {
     "name": "stdout",
     "output_type": "stream",
     "text": [
      "[3, 3, 3, 7, 3, 3] 7\n",
      "[0, 0, 0.77, 0, 0] 0.77\n",
      "[0, 1, 1, 1, 1, 1, 1, 1] 0\n"
     ]
    }
   ],
   "source": [
    "def unique(in_list):\n",
    "    out_num = ''\n",
    "    for ele in set(in_list):\n",
    "        if in_list.count(ele) == 1:\n",
    "            out_num = ele\n",
    "    print(in_list,out_num)\n",
    "\n",
    "unique([3, 3, 3, 7, 3, 3])\n",
    "unique([0, 0, 0.77, 0, 0])\n",
    "unique([0, 1, 1, 1, 1, 1, 1, 1])"
   ]
  },
  {
   "cell_type": "code",
   "execution_count": null,
   "id": "cf972bc6",
   "metadata": {},
   "outputs": [],
   "source": [
    "3.Your task is to create a Circle constructor that creates a circle with a radius provided by an argument. The circles constructed must have two getters getArea() (PIr^2) and getPerimeter() (2PI*r) which give both respective areas and perimeter (circumference). For help with this class, I have provided you with a Rectangle constructor which you can use as a base example ?\n",
    "Examples:\n",
    "circy = Circle(11)\n",
    "circy.getArea()\n",
    "# Should return 380.132711084365 circy = Circle(4.44)\n",
    "circy.getPerimeter()\n",
    "# Should return 27.897342763877365\n",
    "\n",
    "Notes:\n",
    "Round results up to the nearest integer"
   ]
  },
  {
   "cell_type": "code",
   "execution_count": 4,
   "id": "4f385068",
   "metadata": {},
   "outputs": [
    {
     "name": "stdout",
     "output_type": "stream",
     "text": [
      "380\n",
      "28\n"
     ]
    }
   ],
   "source": [
    "import math\n",
    "class Circle:\n",
    "    def __init__(self, radius):\n",
    "        self.radius = radius\n",
    "    def getArea(self):\n",
    "        print(round(math.pi*self.radius*self.radius))\n",
    "    def getPerimeter(self):\n",
    "        print(round(2*math.pi*self.radius))\n",
    "circy = Circle(11)\n",
    "circy.getArea()\n",
    "\n",
    "circy = Circle(4.44)\n",
    "circy.getPerimeter()"
   ]
  },
  {
   "cell_type": "code",
   "execution_count": null,
   "id": "8fccded7",
   "metadata": {},
   "outputs": [],
   "source": [
    "4.Create a function that takes a list of strings and return a list, sorted from shortest to longest.\n",
    "Examples:\n",
    "sort_by_length([\"Google\", \"Apple\", \"Microsoft\"])\n",
    "➞ [\"Apple\", \"Google\", \"Microsoft\"]\n",
    "sort_by_length([\"Leonardo\", \"Michelangelo\", \"Raphael\", \"Donatello\"])\n",
    "➞ [\"Raphael\", \"Leonardo\", \"Donatello\", \"Michelangelo\"]\n",
    "sort_by_length([\"Turing\", \"Einstein\", \"Jung\"])\n",
    "➞ [\"Jung\", \"Turing\", \"Einstein\"]\n",
    "\n",
    "Notes:\n",
    "All test cases contain lists with strings of different lengths, \n",
    "so you won't have to deal with multiple strings of the same length."
   ]
  },
  {
   "cell_type": "code",
   "execution_count": 5,
   "id": "e37b5b7f",
   "metadata": {},
   "outputs": [
    {
     "name": "stdout",
     "output_type": "stream",
     "text": [
      "['Apple', 'Google', 'Microsoft']\n",
      "['Raphael', 'Leonardo', 'Donatello', 'Michelangelo']\n",
      "['Jung', 'Turing', 'Einstein']\n"
     ]
    }
   ],
   "source": [
    "def sort_by_length(in_list):\n",
    "    print(sorted(in_list,key=len))\n",
    "\n",
    "sort_by_length([\"Google\", \"Apple\", \"Microsoft\"])\n",
    "sort_by_length([\"Leonardo\", \"Michelangelo\", \"Raphael\", \"Donatello\"])\n",
    "sort_by_length([\"Turing\", \"Einstein\", \"Jung\"])"
   ]
  },
  {
   "cell_type": "code",
   "execution_count": null,
   "id": "6b4025a8",
   "metadata": {},
   "outputs": [],
   "source": [
    "5.Create a function that validates whether three given integers form a Pythagorean triplet. \n",
    "The sum of the squares of the two smallest integers must equal the square of the largest number to be validated.\n",
    "Examples:\n",
    "is_triplet(3, 4, 5) ➞ True # 3² + 4² = 25 # 5² = 25 is_triplet(13, 5, 12) ➞ True # 5² + 12² = 169 #\n",
    "13² = 169 is_triplet(1, 2, 3) ➞ False # 1² + 2² = 5 # 3² = 9\n",
    "\n",
    "Notes: Numbers may not be given in a sorted order."
   ]
  },
  {
   "cell_type": "code",
   "execution_count": 7,
   "id": "1aaf6620",
   "metadata": {},
   "outputs": [
    {
     "name": "stdout",
     "output_type": "stream",
     "text": [
      "True\n",
      "True\n",
      "False\n"
     ]
    }
   ],
   "source": [
    "def is_triplet(a,b,c):\n",
    "    if ((a**2+b**2) == (c**2)):\n",
    "        print(True)\n",
    "    else:\n",
    "        print(False)\n",
    "        \n",
    "is_triplet(3, 4, 5)\n",
    "is_triplet(3, 4, 5)\n",
    "is_triplet(1, 2, 3)"
   ]
  },
  {
   "cell_type": "code",
   "execution_count": null,
   "id": "fd657898",
   "metadata": {},
   "outputs": [],
   "source": []
  },
  {
   "cell_type": "code",
   "execution_count": null,
   "id": "5f313556",
   "metadata": {},
   "outputs": [],
   "source": []
  },
  {
   "cell_type": "code",
   "execution_count": null,
   "id": "f99bb47e",
   "metadata": {},
   "outputs": [],
   "source": []
  },
  {
   "cell_type": "code",
   "execution_count": null,
   "id": "4d925a0c",
   "metadata": {},
   "outputs": [],
   "source": []
  },
  {
   "cell_type": "code",
   "execution_count": null,
   "id": "47dc923c",
   "metadata": {},
   "outputs": [],
   "source": []
  },
  {
   "cell_type": "code",
   "execution_count": null,
   "id": "fa8a92e9",
   "metadata": {},
   "outputs": [],
   "source": []
  },
  {
   "cell_type": "code",
   "execution_count": null,
   "id": "1b94b342",
   "metadata": {},
   "outputs": [],
   "source": []
  },
  {
   "cell_type": "code",
   "execution_count": null,
   "id": "5ecd4057",
   "metadata": {},
   "outputs": [],
   "source": []
  }
 ],
 "metadata": {
  "kernelspec": {
   "display_name": "Python 3 (ipykernel)",
   "language": "python",
   "name": "python3"
  },
  "language_info": {
   "codemirror_mode": {
    "name": "ipython",
    "version": 3
   },
   "file_extension": ".py",
   "mimetype": "text/x-python",
   "name": "python",
   "nbconvert_exporter": "python",
   "pygments_lexer": "ipython3",
   "version": "3.9.12"
  }
 },
 "nbformat": 4,
 "nbformat_minor": 5
}
