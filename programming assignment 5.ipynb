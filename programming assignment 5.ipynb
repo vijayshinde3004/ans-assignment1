{
 "cells": [
  {
   "cell_type": "markdown",
   "id": "4bc813f9",
   "metadata": {},
   "source": [
    "# programming assignment 5\n",
    "\n",
    "\n"
   ]
  },
  {
   "cell_type": "markdown",
   "id": "a390d800",
   "metadata": {},
   "source": [
    "1. Write a Python Program to Find LCM?"
   ]
  },
  {
   "cell_type": "code",
   "execution_count": 1,
   "id": "7eeeb76c",
   "metadata": {},
   "outputs": [
    {
     "name": "stdout",
     "output_type": "stream",
     "text": [
      "enter a first number=12\n",
      "enter a second number=18\n",
      "36\n"
     ]
    }
   ],
   "source": [
    "number1=int(input(\"enter a first number=\"))\n",
    "number2=int(input(\"enter a second number=\"))\n",
    "if number1>number2:\n",
    "    bigger=number1\n",
    "else:\n",
    "    bigger=number2\n",
    "while(True):\n",
    "    if bigger%number1==0 and bigger%number2==0:\n",
    "        print(bigger)\n",
    "        break\n",
    "    bigger=bigger+1\n",
    "    "
   ]
  },
  {
   "cell_type": "markdown",
   "id": "2e85845f",
   "metadata": {},
   "source": [
    "2. Write a Python Program to Find HCF?"
   ]
  },
  {
   "cell_type": "code",
   "execution_count": 3,
   "id": "f3a19e02",
   "metadata": {},
   "outputs": [
    {
     "name": "stdout",
     "output_type": "stream",
     "text": [
      "enter a first number=12\n",
      "enter a second number=18\n",
      "6\n"
     ]
    }
   ],
   "source": [
    "number1=int(input(\"enter a first number=\"))\n",
    "number2=int(input(\"enter a second number=\"))\n",
    "if number1>number2:\n",
    "    bigger=number1\n",
    "else:\n",
    "    bigger=number2\n",
    "for i in range(1,bigger+1):\n",
    "    if number1%i==0 and number2%i==0:\n",
    "           HCF=i\n",
    "print(HCF)     \n"
   ]
  },
  {
   "cell_type": "markdown",
   "id": "5e847154",
   "metadata": {},
   "source": [
    "3. Write a Python Program to Convert Decimal to Binary, Octal and Hexadecimal?\n"
   ]
  },
  {
   "cell_type": "code",
   "execution_count": 18,
   "id": "97e5fbfc",
   "metadata": {},
   "outputs": [
    {
     "name": "stdout",
     "output_type": "stream",
     "text": [
      "enter a first number=25\n",
      "octal number 31\n",
      "hexadecimal number 19\n",
      "binary number 11001\n",
      "decimal 25\n"
     ]
    }
   ],
   "source": [
    "number1=int(input(\"enter a first number=\"))\n",
    "octal=str(oct(number1))[2:]\n",
    "hexa=str(hex(number1))[2:]\n",
    "binary=str(bin(number1))[2:]\n",
    "print(\"octal number\",octal)\n",
    "print(\"hexadecimal number\",hexa)\n",
    "print(\"binary number\",binary)\n",
    "print(\"decimal\",number1)"
   ]
  },
  {
   "cell_type": "markdown",
   "id": "44cd228b",
   "metadata": {},
   "source": [
    "4. Write a Python Program To Find ASCII value of a character?"
   ]
  },
  {
   "cell_type": "code",
   "execution_count": 23,
   "id": "da680b2c",
   "metadata": {},
   "outputs": [
    {
     "name": "stdout",
     "output_type": "stream",
     "text": [
      "768\n"
     ]
    }
   ],
   "source": [
    "string=\"ineuron\"\n",
    "value=0\n",
    "for i in string:\n",
    "    value=value+ord(i)\n",
    "print(value)\n",
    "    "
   ]
  },
  {
   "cell_type": "markdown",
   "id": "2894c071",
   "metadata": {},
   "source": [
    "5. Write a Python Program to Make a Simple Calculator with 4 basic mathematical operations?"
   ]
  },
  {
   "cell_type": "code",
   "execution_count": 1,
   "id": "408d32bb",
   "metadata": {},
   "outputs": [
    {
     "name": "stdout",
     "output_type": "stream",
     "text": [
      "enter a first number=10\n",
      "enter a second number=20\n",
      "enter a operator =+\n",
      "result is 30\n"
     ]
    }
   ],
   "source": [
    "number1=int(input(\"enter a first number=\"))\n",
    "number2=int(input(\"enter a second number=\"))\n",
    "opr=input(\"enter a operator =\")\n",
    "\n",
    "if opr not in ['+','-','/','*']:\n",
    "    print(\"invalid operator\")\n",
    "elif opr == '+':\n",
    "    result = number1+number2\n",
    "elif opr == '-':\n",
    "    result = number1 - number2\n",
    "elif opr == '/':\n",
    "    if b == 0:\n",
    "        result = \"cannot divide by zero\"\n",
    "    else:\n",
    "        result = number1/number2\n",
    "else:\n",
    "    result = number1 * number2\n",
    "    \n",
    "print(f\"result is {result}\")"
   ]
  },
  {
   "cell_type": "code",
   "execution_count": null,
   "id": "b01ce52c",
   "metadata": {},
   "outputs": [],
   "source": []
  }
 ],
 "metadata": {
  "kernelspec": {
   "display_name": "Python 3 (ipykernel)",
   "language": "python",
   "name": "python3"
  },
  "language_info": {
   "codemirror_mode": {
    "name": "ipython",
    "version": 3
   },
   "file_extension": ".py",
   "mimetype": "text/x-python",
   "name": "python",
   "nbconvert_exporter": "python",
   "pygments_lexer": "ipython3",
   "version": "3.9.12"
  }
 },
 "nbformat": 4,
 "nbformat_minor": 5
}
