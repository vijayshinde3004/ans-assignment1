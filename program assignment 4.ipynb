{
 "cells": [
  {
   "cell_type": "markdown",
   "id": "999fc864",
   "metadata": {},
   "source": [
    "# program assignment 4\n",
    "\n",
    "\n",
    "\n"
   ]
  },
  {
   "cell_type": "markdown",
   "id": "753b0543",
   "metadata": {},
   "source": [
    "1. Write a Python Program to Find the Factorial of a Number?"
   ]
  },
  {
   "cell_type": "code",
   "execution_count": 2,
   "id": "1617ea91",
   "metadata": {},
   "outputs": [
    {
     "name": "stdout",
     "output_type": "stream",
     "text": [
      "enter a number=10\n",
      "factorisl of number= 3628800\n"
     ]
    }
   ],
   "source": [
    "number=int(input(\"enter a number=\"))\n",
    "factorial=1\n",
    "for i in range(1,number+1):\n",
    "    factorial=factorial*i\n",
    "print(\"factorisl of number=\",factorial)\n",
    "    "
   ]
  },
  {
   "cell_type": "markdown",
   "id": "39d7b32c",
   "metadata": {},
   "source": [
    "2. Write a Python Program to Display the multiplication Table?"
   ]
  },
  {
   "cell_type": "code",
   "execution_count": 6,
   "id": "54389a11",
   "metadata": {},
   "outputs": [
    {
     "name": "stdout",
     "output_type": "stream",
     "text": [
      "enter a number=30\n",
      "30\n",
      "60\n",
      "90\n",
      "120\n",
      "150\n",
      "180\n",
      "210\n",
      "240\n",
      "270\n",
      "300\n"
     ]
    }
   ],
   "source": [
    "number=int(input(\"enter a number=\"))\n",
    "for i in range(1,11):\n",
    "    table_of_number=number*i\n",
    "    print(table_of_number)"
   ]
  },
  {
   "cell_type": "markdown",
   "id": "9d7f690a",
   "metadata": {},
   "source": [
    "3. Write a Python Program to Print the Fibonacci sequence?"
   ]
  },
  {
   "cell_type": "code",
   "execution_count": 9,
   "id": "efdb18e8",
   "metadata": {},
   "outputs": [
    {
     "name": "stdout",
     "output_type": "stream",
     "text": [
      "enter element in fibonacci series=10\n",
      "1\n",
      "1\n",
      "2\n",
      "3\n",
      "5\n",
      "8\n",
      "13\n",
      "21\n",
      "34\n",
      "55\n",
      "89\n"
     ]
    }
   ],
   "source": [
    "n=int(input(\"enter element in fibonacci series=\"))\n",
    "pre=0\n",
    "nex=1\n",
    "for i in range(0,n+1):\n",
    "    print(nex)\n",
    "    pre,nex=nex,pre+nex\n",
    "    \n",
    "        \n"
   ]
  },
  {
   "cell_type": "markdown",
   "id": "0ca9ae26",
   "metadata": {},
   "source": [
    "4. Write a Python Program to Check Armstrong Number?"
   ]
  },
  {
   "cell_type": "code",
   "execution_count": 22,
   "id": "0c537a0e",
   "metadata": {},
   "outputs": [
    {
     "name": "stdout",
     "output_type": "stream",
     "text": [
      "enter element number=152\n",
      "number is not armstrong number\n"
     ]
    }
   ],
   "source": [
    "n=int(input(\"enter element number=\"))\n",
    "str1=str(n)\n",
    "variable=0\n",
    "for i in str1:\n",
    "    variable=variable+(int(i)**3)\n",
    "if variable==n:\n",
    "    print(\"number is armstrong number\")\n",
    "else:\n",
    "      print(\"number is not armstrong number\")"
   ]
  },
  {
   "cell_type": "markdown",
   "id": "d3b58483",
   "metadata": {},
   "source": [
    "5. Write a Python Program to Find Armstrong Number in an Interval?"
   ]
  },
  {
   "cell_type": "code",
   "execution_count": 26,
   "id": "2de73064",
   "metadata": {},
   "outputs": [
    {
     "name": "stdout",
     "output_type": "stream",
     "text": [
      "enter element number=1000\n",
      "1\n",
      "153\n",
      "370\n",
      "370\n",
      "371\n",
      "407\n"
     ]
    }
   ],
   "source": [
    "n=int(input(\"enter element number=\"))\n",
    "for i in range(1,n+1):\n",
    "    str1=str(i)\n",
    "    variable=0\n",
    "    for j in str1:\n",
    "        variable=variable+(int(j)**3)\n",
    "        if variable==i:\n",
    "            print(i)"
   ]
  },
  {
   "cell_type": "markdown",
   "id": "8926bed6",
   "metadata": {},
   "source": [
    "6. Write a Python Program to Find the Sum of Natural Numbers?"
   ]
  },
  {
   "cell_type": "code",
   "execution_count": 31,
   "id": "c3026ace",
   "metadata": {},
   "outputs": [
    {
     "name": "stdout",
     "output_type": "stream",
     "text": [
      "1\n",
      "2\n",
      "3\n",
      "4\n",
      "5\n",
      "6\n",
      "7\n",
      "8\n",
      "9\n",
      "sum of natureal numbers 45\n"
     ]
    }
   ],
   "source": [
    "sum1=0\n",
    "for i in range(10):\n",
    "    if i >0:\n",
    "        print(i)\n",
    "        sum1=sum1+i\n",
    "print(\"sum of natureal numbers\",sum1)"
   ]
  },
  {
   "cell_type": "code",
   "execution_count": null,
   "id": "9801b7e4",
   "metadata": {},
   "outputs": [],
   "source": []
  }
 ],
 "metadata": {
  "kernelspec": {
   "display_name": "Python 3 (ipykernel)",
   "language": "python",
   "name": "python3"
  },
  "language_info": {
   "codemirror_mode": {
    "name": "ipython",
    "version": 3
   },
   "file_extension": ".py",
   "mimetype": "text/x-python",
   "name": "python",
   "nbconvert_exporter": "python",
   "pygments_lexer": "ipython3",
   "version": "3.9.12"
  }
 },
 "nbformat": 4,
 "nbformat_minor": 5
}
