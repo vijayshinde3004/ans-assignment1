{
 "cells": [
  {
   "cell_type": "code",
   "execution_count": null,
   "id": "bc6c54b3",
   "metadata": {},
   "outputs": [],
   "source": [
    "1. Write a Python program to find sum of elements in list?"
   ]
  },
  {
   "cell_type": "code",
   "execution_count": 1,
   "id": "80d0ad9f",
   "metadata": {},
   "outputs": [
    {
     "name": "stdout",
     "output_type": "stream",
     "text": [
      "43\n"
     ]
    }
   ],
   "source": [
    "list1=[1,2,3,4,5,6,7,8,7]\n",
    "sum1=0\n",
    "for i in list1:\n",
    "    sum1+=i\n",
    "print(sum1)"
   ]
  },
  {
   "cell_type": "code",
   "execution_count": null,
   "id": "573d06df",
   "metadata": {},
   "outputs": [],
   "source": [
    "2. Write a Python program to Multiply all numbers in the list?"
   ]
  },
  {
   "cell_type": "code",
   "execution_count": 2,
   "id": "f756bb36",
   "metadata": {},
   "outputs": [
    {
     "name": "stdout",
     "output_type": "stream",
     "text": [
      "282240\n"
     ]
    }
   ],
   "source": [
    "list1=[1,2,3,4,5,6,7,8,7]\n",
    "multiplication=1\n",
    "for i in list1:\n",
    "    multiplication=multiplication*i\n",
    "print(multiplication)"
   ]
  },
  {
   "cell_type": "code",
   "execution_count": null,
   "id": "b3745e53",
   "metadata": {},
   "outputs": [],
   "source": [
    "3. Write a Python program to find smallest number in a list?"
   ]
  },
  {
   "cell_type": "code",
   "execution_count": 3,
   "id": "4c3b5e86",
   "metadata": {},
   "outputs": [
    {
     "name": "stdout",
     "output_type": "stream",
     "text": [
      "1\n"
     ]
    }
   ],
   "source": [
    "list1=[1,2,3,4,5,6,7,8,7]\n",
    "smallnum=list1[0]\n",
    "for i in list1:\n",
    "    if i<smallnum:\n",
    "        smallnum=i\n",
    "print(smallnum)"
   ]
  },
  {
   "cell_type": "code",
   "execution_count": null,
   "id": "8090ef0c",
   "metadata": {},
   "outputs": [],
   "source": [
    "4. Write a Python program to find largest number in a list?"
   ]
  },
  {
   "cell_type": "code",
   "execution_count": 4,
   "id": "3de49ebb",
   "metadata": {},
   "outputs": [
    {
     "name": "stdout",
     "output_type": "stream",
     "text": [
      "8\n"
     ]
    }
   ],
   "source": [
    "list1=[1,2,3,4,5,6,7,8,7]\n",
    "large=list1[0]\n",
    "for i in list1:\n",
    "    if i>large:\n",
    "        large=i\n",
    "print(large)"
   ]
  },
  {
   "cell_type": "code",
   "execution_count": null,
   "id": "c37626cf",
   "metadata": {},
   "outputs": [],
   "source": [
    "5. Write a Python program to find second largest number in a list?"
   ]
  },
  {
   "cell_type": "code",
   "execution_count": 7,
   "id": "8a36f963",
   "metadata": {},
   "outputs": [
    {
     "name": "stdout",
     "output_type": "stream",
     "text": [
      "7\n"
     ]
    }
   ],
   "source": [
    "list1=[1,2,3,4,5,6,7,8,7]\n",
    "list1.sort(reverse=True)\n",
    "large=list1[0]\n",
    "for i in list1:\n",
    "    if i!=large:\n",
    "        large=i\n",
    "        break\n",
    "print(large)"
   ]
  },
  {
   "cell_type": "code",
   "execution_count": null,
   "id": "d33c4d91",
   "metadata": {},
   "outputs": [],
   "source": [
    "6. Write a Python program to find N largest elements from a list?"
   ]
  },
  {
   "cell_type": "code",
   "execution_count": 30,
   "id": "991057ae",
   "metadata": {},
   "outputs": [
    {
     "name": "stdout",
     "output_type": "stream",
     "text": [
      "enter nth large number u want=5\n",
      "4\n"
     ]
    }
   ],
   "source": [
    "list1=[1,2,3,4,5,6,7,8,7]\n",
    "list1.sort(reverse=True)\n",
    "nthlargenumber=int(input(\"enter nth large number u want=\"))\n",
    "large=list1[0]\n",
    "count=1\n",
    "for i in list1:\n",
    "    if nthlargenumber==1:\n",
    "        large=list1[0]\n",
    "    elif i!=large:\n",
    "        large=i\n",
    "        count+=1\n",
    "        if count==nthlargenumber:\n",
    "            lagre=i\n",
    "            break\n",
    "print(large)"
   ]
  },
  {
   "cell_type": "code",
   "execution_count": null,
   "id": "06414e71",
   "metadata": {},
   "outputs": [],
   "source": [
    "7. Write a Python program to print even numbers in a list?"
   ]
  },
  {
   "cell_type": "code",
   "execution_count": 8,
   "id": "9ff5e842",
   "metadata": {},
   "outputs": [
    {
     "name": "stdout",
     "output_type": "stream",
     "text": [
      "[2, 4, 6, 8]\n"
     ]
    }
   ],
   "source": [
    "list1=[1,2,3,4,5,6,7,8,7]\n",
    "list2=[]\n",
    "for i in list1:\n",
    "    if i%2==0:\n",
    "        list2.append(i)\n",
    "print(list2)"
   ]
  },
  {
   "cell_type": "code",
   "execution_count": null,
   "id": "590e0df5",
   "metadata": {},
   "outputs": [],
   "source": [
    "8. Write a Python program to print odd numbers in a List?"
   ]
  },
  {
   "cell_type": "code",
   "execution_count": 9,
   "id": "e36897e4",
   "metadata": {},
   "outputs": [
    {
     "name": "stdout",
     "output_type": "stream",
     "text": [
      "[1, 3, 5, 7, 7]\n"
     ]
    }
   ],
   "source": [
    "list1=[1,2,3,4,5,6,7,8,7]\n",
    "list2=[]\n",
    "for i in list1:\n",
    "    if i%2!=0:\n",
    "        list2.append(i)\n",
    "print(list2)"
   ]
  },
  {
   "cell_type": "code",
   "execution_count": null,
   "id": "a1a32a48",
   "metadata": {},
   "outputs": [],
   "source": [
    "9. Write a Python program to Remove empty List from List?"
   ]
  },
  {
   "cell_type": "code",
   "execution_count": 10,
   "id": "20e4ecc2",
   "metadata": {},
   "outputs": [
    {
     "name": "stdout",
     "output_type": "stream",
     "text": [
      "[]\n"
     ]
    }
   ],
   "source": [
    "list1=[[1,2],[3,4],[5,6],[],[7,8,7]]\n",
    "for i in list1:\n",
    "    if len(i)==0:\n",
    "        print(i)"
   ]
  },
  {
   "cell_type": "code",
   "execution_count": null,
   "id": "eb060103",
   "metadata": {},
   "outputs": [],
   "source": [
    "10. Write a Python program to Cloning or Copying a list?"
   ]
  },
  {
   "cell_type": "code",
   "execution_count": 12,
   "id": "fdac7d57",
   "metadata": {},
   "outputs": [
    {
     "data": {
      "text/plain": [
       "[1, 2, 3, 4, 5, 6, 7, 8, 7]"
      ]
     },
     "execution_count": 12,
     "metadata": {},
     "output_type": "execute_result"
    }
   ],
   "source": [
    "list1=[1,2,3,4,5,6,7,8,7]\n",
    "list2=list1.copy()\n",
    "list2\n"
   ]
  },
  {
   "cell_type": "code",
   "execution_count": null,
   "id": "5bc852a5",
   "metadata": {},
   "outputs": [],
   "source": [
    "11. Write a Python program to Count occurrences of an element in a list?"
   ]
  },
  {
   "cell_type": "code",
   "execution_count": 15,
   "id": "faa335be",
   "metadata": {},
   "outputs": [
    {
     "name": "stdout",
     "output_type": "stream",
     "text": [
      "element  1 count of element 2\n",
      "element  2 count of element 1\n",
      "element  3 count of element 1\n",
      "element  4 count of element 2\n",
      "element  5 count of element 2\n",
      "element  6 count of element 1\n",
      "element  7 count of element 4\n",
      "element  8 count of element 3\n",
      "element  54 count of element 1\n"
     ]
    }
   ],
   "source": [
    "list1=[1,2,3,4,5,6,7,8,7,8,5,1,54,4,7,8,7]\n",
    "list2=set(list1)\n",
    "for i in list2:\n",
    "        count=list1.count(i)\n",
    "        print(\"element \",i,\"count of element\",count)"
   ]
  },
  {
   "cell_type": "code",
   "execution_count": null,
   "id": "dd9799c9",
   "metadata": {},
   "outputs": [],
   "source": []
  }
 ],
 "metadata": {
  "kernelspec": {
   "display_name": "Python 3 (ipykernel)",
   "language": "python",
   "name": "python3"
  },
  "language_info": {
   "codemirror_mode": {
    "name": "ipython",
    "version": 3
   },
   "file_extension": ".py",
   "mimetype": "text/x-python",
   "name": "python",
   "nbconvert_exporter": "python",
   "pygments_lexer": "ipython3",
   "version": "3.9.12"
  }
 },
 "nbformat": 4,
 "nbformat_minor": 5
}
