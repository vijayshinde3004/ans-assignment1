{
 "cells": [
  {
   "cell_type": "code",
   "execution_count": null,
   "id": "4c43d37e",
   "metadata": {},
   "outputs": [],
   "source": [
    "Question 1:\n",
    "Please write a program using generator to print the numbers which can be divisible by 5 and\n",
    "7 between 0 and n in comma separated form while n is input by console."
   ]
  },
  {
   "cell_type": "code",
   "execution_count": 6,
   "id": "13bcb4be",
   "metadata": {},
   "outputs": [
    {
     "name": "stdout",
     "output_type": "stream",
     "text": [
      "enter a range number u want=100\n",
      "0,35,70,"
     ]
    }
   ],
   "source": [
    "def div_5_7():\n",
    "    n=int(input(\"enter a range number u want=\"))\n",
    "    for i in range(n+1):\n",
    "        if i%5==0 and i%7==0:\n",
    "            print(i,end=\",\")\n",
    "div_5_7()\n",
    "    "
   ]
  },
  {
   "cell_type": "code",
   "execution_count": null,
   "id": "b9bc1868",
   "metadata": {},
   "outputs": [],
   "source": [
    "Question 2:\n",
    "Please write a program using generator to print the even numbers between 0 and n in comma\n",
    "separated form while n is input by console.\n",
    "Example:\n",
    "If the following n is given as input to the program:\n",
    "10\n",
    "Then, the output of the program should be:\n",
    "0,2,4,6,8,10"
   ]
  },
  {
   "cell_type": "code",
   "execution_count": 11,
   "id": "64119e9f",
   "metadata": {},
   "outputs": [
    {
     "name": "stdout",
     "output_type": "stream",
     "text": [
      "enter a range number u want=10\n",
      "0,2,4,6,8,10,"
     ]
    }
   ],
   "source": [
    "def even():\n",
    "    n=int(input(\"enter a range number u want=\"))\n",
    "    for i in range(n+1):\n",
    "        if i%2==0 :\n",
    "            print(i,end=\",\")\n",
    "even()"
   ]
  },
  {
   "cell_type": "code",
   "execution_count": null,
   "id": "5afeb329",
   "metadata": {},
   "outputs": [],
   "source": [
    "Question 3:\n",
    "The Fibonacci Sequence is computed based on the following formula:\n",
    "f(n)=0 if n=0\n",
    "f(n)=1 if n=1\n",
    "f(n)=f(n-1)+f(n-2) if n&gt;1\n",
    "Please write a program using list comprehension to print the Fibonacci Sequence in comma\n",
    "separated form with a given n input by console.\n",
    "Example:\n",
    "If the following n is given as input to the program:\n",
    "7\n",
    "\n",
    "Then, the output of the program should be:\n",
    "0,1,1,2,3,5,8,13\n"
   ]
  },
  {
   "cell_type": "code",
   "execution_count": 13,
   "id": "f758e91c",
   "metadata": {},
   "outputs": [
    {
     "name": "stdout",
     "output_type": "stream",
     "text": [
      "Enter the number: 7\n",
      "0,1,1,2,3,5,8,13,21,"
     ]
    }
   ],
   "source": [
    "n = int(input('Enter the number: '))\n",
    "my_list = [0,1]\n",
    "[my_list.append(my_list[-2]+my_list[-1]) for n in range(n)]\n",
    "for i in my_list:\n",
    "    print(i,end=',')"
   ]
  },
  {
   "cell_type": "code",
   "execution_count": null,
   "id": "6b96709e",
   "metadata": {},
   "outputs": [],
   "source": [
    "4.Assuming that we have some email addresses in the \"username@companyname.com\" \n",
    "format, please write program to print the user name of a given email address. \n",
    "Both user names and company names are composed of letters only."
   ]
  },
  {
   "cell_type": "code",
   "execution_count": 17,
   "id": "f68ece90",
   "metadata": {},
   "outputs": [
    {
     "name": "stdout",
     "output_type": "stream",
     "text": [
      "enter a mail addresses=username@companyname.com\n"
     ]
    },
    {
     "data": {
      "text/plain": [
       "'username'"
      ]
     },
     "execution_count": 17,
     "metadata": {},
     "output_type": "execute_result"
    }
   ],
   "source": [
    "#john@google.com\n",
    "def user_name():\n",
    "    str1=input(\"enter a mail addresses=\")\n",
    "    n = str1.find('@')\n",
    "    return str1[:n]\n",
    "\n",
    "user_name()"
   ]
  },
  {
   "cell_type": "code",
   "execution_count": null,
   "id": "2f093490",
   "metadata": {},
   "outputs": [],
   "source": [
    "5. Define a class named Shape and its subclass Square.\n",
    "The Square class has an init function which takes a length as argument.\n",
    "Both classes have a area function which can print the area of the shape where Shape's area is 0 by default."
   ]
  },
  {
   "cell_type": "code",
   "execution_count": 20,
   "id": "ea7c3cf7",
   "metadata": {},
   "outputs": [],
   "source": [
    "class shape:\n",
    "    def area(self):\n",
    "        print('This super method is called')\n",
    "        return 0\n",
    "\n",
    "class Square(shape):\n",
    "    def __init__(self,length=0):\n",
    "        self.length = length\n",
    "    def area(self):\n",
    "        if self.length >0:\n",
    "            return self.length * self.length\n",
    "        else:\n",
    "            super().area()"
   ]
  },
  {
   "cell_type": "code",
   "execution_count": 21,
   "id": "1e61a309",
   "metadata": {},
   "outputs": [
    {
     "name": "stdout",
     "output_type": "stream",
     "text": [
      "Lenght of Square is  30\n",
      "Area of the Square is 900\n"
     ]
    }
   ],
   "source": [
    "a = Square(30)\n",
    "print('Lenght of Square is ',a.length)\n",
    "print('Area of the Square is',a.area())"
   ]
  },
  {
   "cell_type": "code",
   "execution_count": 22,
   "id": "f3d4caee",
   "metadata": {},
   "outputs": [
    {
     "name": "stdout",
     "output_type": "stream",
     "text": [
      "Lenght of Square is  0\n",
      "This super method is called\n",
      "Area of the Square is  None\n"
     ]
    }
   ],
   "source": [
    "b = Square()\n",
    "print('Lenght of Square is ',b.length)\n",
    "print('Area of the Square is ',b.area())"
   ]
  },
  {
   "cell_type": "code",
   "execution_count": null,
   "id": "29b43bd0",
   "metadata": {},
   "outputs": [],
   "source": []
  }
 ],
 "metadata": {
  "kernelspec": {
   "display_name": "Python 3 (ipykernel)",
   "language": "python",
   "name": "python3"
  },
  "language_info": {
   "codemirror_mode": {
    "name": "ipython",
    "version": 3
   },
   "file_extension": ".py",
   "mimetype": "text/x-python",
   "name": "python",
   "nbconvert_exporter": "python",
   "pygments_lexer": "ipython3",
   "version": "3.9.12"
  }
 },
 "nbformat": 4,
 "nbformat_minor": 5
}
