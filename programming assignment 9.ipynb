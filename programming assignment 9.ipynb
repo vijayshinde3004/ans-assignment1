{
 "cells": [
  {
   "cell_type": "code",
   "execution_count": null,
   "id": "96f6a6f9",
   "metadata": {},
   "outputs": [],
   "source": [
    "1. Write a Python program to check if the given number is a Disarium Number?"
   ]
  },
  {
   "cell_type": "code",
   "execution_count": 1,
   "id": "ccb9f9f4",
   "metadata": {},
   "outputs": [
    {
     "name": "stdout",
     "output_type": "stream",
     "text": [
      "Enter the Number: 89\n",
      "89  is Disarium Number\n"
     ]
    }
   ],
   "source": [
    "a = int(input('Enter the Number: '))\n",
    "def isDisariumNum(a):\n",
    "    b = str(a)\n",
    "    m = 0\n",
    "    for i in range(len(b)):\n",
    "        m = m + int(b[i])**(i+1)\n",
    "    return m\n",
    "\n",
    "res = isDisariumNum(a)\n",
    "if res == a:\n",
    "    print(a,' is Disarium Number')\n",
    "else:\n",
    "    print(a,' NotDisarium Number ')"
   ]
  },
  {
   "cell_type": "code",
   "execution_count": null,
   "id": "de8b0f56",
   "metadata": {},
   "outputs": [],
   "source": [
    "2. Write a Python program to print all disarium numbers between 1 to 100?"
   ]
  },
  {
   "cell_type": "code",
   "execution_count": 2,
   "id": "2ccf79dc",
   "metadata": {},
   "outputs": [
    {
     "name": "stdout",
     "output_type": "stream",
     "text": [
      "Disarium numbers between 1 to 100 are  [1, 2, 3, 4, 5, 6, 7, 8, 9, 89]\n"
     ]
    }
   ],
   "source": [
    "def isDisariumNum(a):\n",
    "    b = str(a)\n",
    "    m = 0\n",
    "    for i in range(len(b)):\n",
    "        m = m + int(b[i])**(i+1)\n",
    "    return m\n",
    "disa =[]\n",
    "for i in range(1,100):\n",
    "    res = isDisariumNum(i)\n",
    "    if res == i:\n",
    "        disa.append(i)\n",
    "print('Disarium numbers between 1 to 100 are ',disa)\n",
    "        "
   ]
  },
  {
   "cell_type": "code",
   "execution_count": null,
   "id": "50b1d4dd",
   "metadata": {},
   "outputs": [],
   "source": [
    "3. Write a Python program to check if the given number is Happy Number?"
   ]
  },
  {
   "cell_type": "code",
   "execution_count": 15,
   "id": "7bb9d500",
   "metadata": {},
   "outputs": [
    {
     "name": "stdout",
     "output_type": "stream",
     "text": [
      "Enter the Number 25\n",
      "25 is not a happy number\n"
     ]
    }
   ],
   "source": [
    "def isHappyNumber(n):\n",
    "    num=0\n",
    "    sum1 = 0\n",
    "    while (n>0):\n",
    "        num = n%10\n",
    "        sum1 += num*num\n",
    "        n = n//10\n",
    "    return sum1\n",
    "n = int(input('Enter the Number '))\n",
    "r = n\n",
    "while(r!=1 and r!=4):\n",
    "    r = isHappyNumber(r)\n",
    "if(r == 1):  \n",
    "    print(str(n) + \" is a happy number\")   \n",
    "elif(r == 4):  \n",
    "    print(str(n) + \" is not a happy number\")     "
   ]
  },
  {
   "cell_type": "code",
   "execution_count": null,
   "id": "80d17cd0",
   "metadata": {},
   "outputs": [],
   "source": [
    "4. Write a Python program to print all happy numbers between 1 and 100?"
   ]
  },
  {
   "cell_type": "code",
   "execution_count": 14,
   "id": "07a9b155",
   "metadata": {},
   "outputs": [
    {
     "name": "stdout",
     "output_type": "stream",
     "text": [
      "Happy Numbers between 1 to 100 [1, 7, 10, 13, 19, 23, 28, 31, 32, 44, 49, 68, 70, 79, 82, 86, 91, 94, 97]\n"
     ]
    }
   ],
   "source": [
    "def isHappyNumber(n):\n",
    "    num=0\n",
    "    sum1 = 0\n",
    "    while (n>0):\n",
    "        num = n%10\n",
    "        sum1 += num*num\n",
    "        n = n//10\n",
    "    return sum1\n",
    "happynumber = []\n",
    "for i in range(1,100):\n",
    "    r = i\n",
    "    while(r!=1 and r!=4):\n",
    "        r = isHappyNumber(r)\n",
    "        \n",
    "    if(r == 1):  \n",
    "        happynumber.append(i)\n",
    "print('Happy Numbers between 1 to 100',happynumber)"
   ]
  },
  {
   "cell_type": "code",
   "execution_count": null,
   "id": "18de8513",
   "metadata": {},
   "outputs": [],
   "source": [
    "5. Write a Python program to determine whether the given number is a Harshad Number?"
   ]
  },
  {
   "cell_type": "code",
   "execution_count": 12,
   "id": "b7da3c80",
   "metadata": {},
   "outputs": [
    {
     "name": "stdout",
     "output_type": "stream",
     "text": [
      "Enter the number: 15\n",
      "15  is Not Harshad Number\n"
     ]
    }
   ],
   "source": [
    "num = int(input('Enter the number: '))\n",
    "def isHarshadNum(num):\n",
    "    b = str(num)\n",
    "    m = 0\n",
    "    for i in range(len(b)):\n",
    "        m += int(b[i])\n",
    "    return m\n",
    "res = isHarshadNum(num)\n",
    "if a%res == 0:\n",
    "    print(num,' is Harshad Number')\n",
    "else: \n",
    "    print (num,' is Not Harshad Number')"
   ]
  },
  {
   "cell_type": "code",
   "execution_count": null,
   "id": "e6b1c648",
   "metadata": {},
   "outputs": [],
   "source": [
    "6. Write a Python program to print all pronic numbers between 1 and 100?"
   ]
  },
  {
   "cell_type": "code",
   "execution_count": 11,
   "id": "9aff868b",
   "metadata": {},
   "outputs": [
    {
     "name": "stdout",
     "output_type": "stream",
     "text": [
      "Pronic numbers list [2, 6, 12, 20, 30, 42, 56, 72, 90]\n"
     ]
    }
   ],
   "source": [
    "def isPronicNumber(n):\n",
    "    VAL = False\n",
    "    for i in range(1,n+1):\n",
    "        if ((i*(i+1))==n):\n",
    "            VAL = True\n",
    "            break\n",
    "    return VAL\n",
    "\n",
    "prn =[]\n",
    "for i in range(1,101):\n",
    "    if isPronicNumber(i):\n",
    "        prn.append(i)\n",
    "print('Pronic numbers list',prn)"
   ]
  },
  {
   "cell_type": "code",
   "execution_count": null,
   "id": "b836d362",
   "metadata": {},
   "outputs": [],
   "source": []
  }
 ],
 "metadata": {
  "kernelspec": {
   "display_name": "Python 3 (ipykernel)",
   "language": "python",
   "name": "python3"
  },
  "language_info": {
   "codemirror_mode": {
    "name": "ipython",
    "version": 3
   },
   "file_extension": ".py",
   "mimetype": "text/x-python",
   "name": "python",
   "nbconvert_exporter": "python",
   "pygments_lexer": "ipython3",
   "version": "3.9.12"
  }
 },
 "nbformat": 4,
 "nbformat_minor": 5
}
