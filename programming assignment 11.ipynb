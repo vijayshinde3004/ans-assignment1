{
 "cells": [
  {
   "cell_type": "code",
   "execution_count": null,
   "id": "00a83181",
   "metadata": {},
   "outputs": [],
   "source": [
    "1. Write a Python program to find words which are greater than given length k?"
   ]
  },
  {
   "cell_type": "code",
   "execution_count": 1,
   "id": "d1d39708",
   "metadata": {},
   "outputs": [
    {
     "name": "stdout",
     "output_type": "stream",
     "text": [
      "enter a lengte u want =2\n",
      "['have', 'nice', 'day']\n"
     ]
    }
   ],
   "source": [
    "str1=\"have a nice day\"\n",
    "length=int(input(\"enter a lengte u want =\"))\n",
    "str2=str1.split()\n",
    "list1=[]\n",
    "for i in str2:\n",
    "    if len(i)>length:\n",
    "        list1.append(i)\n",
    "print(list1)"
   ]
  },
  {
   "cell_type": "code",
   "execution_count": null,
   "id": "6cb1e756",
   "metadata": {},
   "outputs": [],
   "source": [
    "2. Write a Python program for removing i-th character from a string?"
   ]
  },
  {
   "cell_type": "code",
   "execution_count": 4,
   "id": "1c3e2775",
   "metadata": {},
   "outputs": [
    {
     "name": "stdout",
     "output_type": "stream",
     "text": [
      "enter a num of char u want to remove =2\n",
      "have a nice day\n"
     ]
    }
   ],
   "source": [
    "str1=\"have a nice day\"\n",
    "char=int(input(\"enter a num of char u want to remove =\"))\n",
    "for i in str1:\n",
    "    if str1.index(i)==char:\n",
    "        str1.replace(i,\" \",1)\n",
    "print(str1)"
   ]
  },
  {
   "cell_type": "code",
   "execution_count": null,
   "id": "a4bd684d",
   "metadata": {},
   "outputs": [],
   "source": [
    "3. Write a Python program to split and join a string?"
   ]
  },
  {
   "cell_type": "code",
   "execution_count": 7,
   "id": "9d582443",
   "metadata": {},
   "outputs": [
    {
     "name": "stdout",
     "output_type": "stream",
     "text": [
      "['have', 'a', 'nice', 'day']\n",
      "haveaniceday\n"
     ]
    }
   ],
   "source": [
    "str1=\"have a nice day\"\n",
    "str3=str1.split()\n",
    "print(str3)\n",
    "str2=\"\".join(str3)\n",
    "print(str2)"
   ]
  },
  {
   "cell_type": "code",
   "execution_count": null,
   "id": "8aad55d8",
   "metadata": {},
   "outputs": [],
   "source": [
    "4. Write a Python to check if a given string is binary string or not?"
   ]
  },
  {
   "cell_type": "code",
   "execution_count": 14,
   "id": "7e40edc1",
   "metadata": {},
   "outputs": [
    {
     "name": "stdout",
     "output_type": "stream",
     "text": [
      "Given string is binary\n"
     ]
    }
   ],
   "source": [
    "s = '0101011100011000111'\n",
    "p = set(s)\n",
    "b = {'0','1'}\n",
    "if b == p or p == {'0'} or p == {'1'}:\n",
    "    print('Given string is binary')\n",
    "else:\n",
    "    print('Given string is not binary')\n"
   ]
  },
  {
   "cell_type": "code",
   "execution_count": null,
   "id": "1235770a",
   "metadata": {},
   "outputs": [],
   "source": [
    "5. Write a Python program to find uncommon words from two Strings?"
   ]
  },
  {
   "cell_type": "code",
   "execution_count": 13,
   "id": "892c7112",
   "metadata": {},
   "outputs": [
    {
     "data": {
      "text/plain": [
       "['', 'i', 'build', 'model', 'nice', 'day']"
      ]
     },
     "execution_count": 13,
     "metadata": {},
     "output_type": "execute_result"
    }
   ],
   "source": [
    "s = 'have a nice day'\n",
    "l = 'i have build a model'\n",
    "\n",
    "g = ''\n",
    "m = s.split(' ')\n",
    "n = l.split(' ')\n",
    "for i in n:\n",
    "    if i not in m:\n",
    "        g = g+' '+i \n",
    "for j in m:\n",
    "    if j not in n:\n",
    "        g = g+' '+j \n",
    "g.split(' ')\n"
   ]
  },
  {
   "cell_type": "code",
   "execution_count": null,
   "id": "b83f459b",
   "metadata": {},
   "outputs": [],
   "source": [
    "6. Write a Python to find all duplicate characters in string?"
   ]
  },
  {
   "cell_type": "code",
   "execution_count": 12,
   "id": "e3c70ae7",
   "metadata": {},
   "outputs": [
    {
     "name": "stdout",
     "output_type": "stream",
     "text": [
      "Duplicate character are:  ['f', 'o', 'j', 'k', 'i', 'a']\n"
     ]
    }
   ],
   "source": [
    "s = 'ijijkikijiiiowaeiouhififa'\n",
    "l = list(s)\n",
    "m = []\n",
    "for i in set(l):\n",
    "    if l.count(i) > 1:\n",
    "        m.append(i)\n",
    "\n",
    "print('Duplicate character are: ',m)"
   ]
  },
  {
   "cell_type": "code",
   "execution_count": null,
   "id": "5634d498",
   "metadata": {},
   "outputs": [],
   "source": [
    "7. Write a Python Program to check if a string contains any special character?"
   ]
  },
  {
   "cell_type": "code",
   "execution_count": 11,
   "id": "ed2a3d6b",
   "metadata": {},
   "outputs": [
    {
     "name": "stdout",
     "output_type": "stream",
     "text": [
      "Enter the string: vg\n",
      "no,Strings doen't have special character\n"
     ]
    }
   ],
   "source": [
    "special_characters = \"!@#$%^&*()-+?_=,<>/\"\n",
    "h = input('Enter the string: ')\n",
    "if any(i in special_characters for i in h):\n",
    "    print(\"yes,String has special character\")\n",
    "else:\n",
    "    print(\"no,Strings doen't have special character\")"
   ]
  }
 ],
 "metadata": {
  "kernelspec": {
   "display_name": "Python 3 (ipykernel)",
   "language": "python",
   "name": "python3"
  },
  "language_info": {
   "codemirror_mode": {
    "name": "ipython",
    "version": 3
   },
   "file_extension": ".py",
   "mimetype": "text/x-python",
   "name": "python",
   "nbconvert_exporter": "python",
   "pygments_lexer": "ipython3",
   "version": "3.9.12"
  }
 },
 "nbformat": 4,
 "nbformat_minor": 5
}
