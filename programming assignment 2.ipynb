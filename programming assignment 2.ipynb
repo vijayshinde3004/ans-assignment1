{
 "cells": [
  {
   "cell_type": "markdown",
   "id": "7eae15a2",
   "metadata": {},
   "source": [
    "# programming assignment 2\n",
    "\n",
    "\n"
   ]
  },
  {
   "cell_type": "markdown",
   "id": "43e67d00",
   "metadata": {},
   "source": [
    "1. Write a Python program to convert kilometers to miles?"
   ]
  },
  {
   "cell_type": "code",
   "execution_count": 1,
   "id": "8a7ba9cf",
   "metadata": {},
   "outputs": [
    {
     "name": "stdout",
     "output_type": "stream",
     "text": [
      "enter a kilometer to convert in to mile =20\n",
      "converted miles = 12.425999999999998\n"
     ]
    }
   ],
   "source": [
    "kilometer=int(input(\"enter a kilometer to convert in to mile =\"))\n",
    "\n",
    "# we know 1 km = 0.6213 miles\n",
    "\n",
    "miles=kilometer*0.6213\n",
    "print(\"converted miles =\",miles)"
   ]
  },
  {
   "cell_type": "markdown",
   "id": "8b1e41b7",
   "metadata": {},
   "source": [
    "2. Write a Python program to convert Celsius to Fahrenheit?"
   ]
  },
  {
   "cell_type": "code",
   "execution_count": 2,
   "id": "1ceb3d4b",
   "metadata": {},
   "outputs": [
    {
     "name": "stdout",
     "output_type": "stream",
     "text": [
      "enter a kilometer to convert in to mile =10\n",
      "converted miles = 320\n"
     ]
    }
   ],
   "source": [
    "cesius=int(input(\"enter a kilometer to convert in to mile =\"))\n",
    "\n",
    "# we know 0 cesius = 32 Fahrenheit\n",
    "\n",
    "Fahrenheit=cesius*32\n",
    "print(\"converted miles =\",Fahrenheit)"
   ]
  },
  {
   "cell_type": "markdown",
   "id": "d5383655",
   "metadata": {},
   "source": [
    "3. Write a Python program to display calendar?"
   ]
  },
  {
   "cell_type": "code",
   "execution_count": 3,
   "id": "d1fcf406",
   "metadata": {},
   "outputs": [
    {
     "name": "stdout",
     "output_type": "stream",
     "text": [
      "enter a year2017\n",
      "enter a month4\n",
      "     April 2017\n",
      "Mo Tu We Th Fr Sa Su\n",
      "                1  2\n",
      " 3  4  5  6  7  8  9\n",
      "10 11 12 13 14 15 16\n",
      "17 18 19 20 21 22 23\n",
      "24 25 26 27 28 29 30\n",
      "\n"
     ]
    }
   ],
   "source": [
    "import calendar\n",
    "year=int(input(\"enter a year\"))\n",
    "month=int(input(\"enter a month\"))\n",
    "print(calendar.month(year,month))"
   ]
  },
  {
   "cell_type": "markdown",
   "id": "c54b0e18",
   "metadata": {},
   "source": [
    "4. Write a Python program to solve quadratic equation?"
   ]
  },
  {
   "cell_type": "code",
   "execution_count": 5,
   "id": "7f333f85",
   "metadata": {},
   "outputs": [
    {
     "name": "stdout",
     "output_type": "stream",
     "text": [
      "enter a value of x=2\n",
      "value of equation = 31\n"
     ]
    }
   ],
   "source": [
    "x=int(input(\"enter a value of x=\"))\n",
    "equation=x**3+2*x**2+15\n",
    "print(\"value of equation =\",equation)"
   ]
  },
  {
   "cell_type": "markdown",
   "id": "dba54df6",
   "metadata": {},
   "source": [
    "5. Write a Python program to swap two variables without temp variable?"
   ]
  },
  {
   "cell_type": "code",
   "execution_count": 9,
   "id": "af26eaf3",
   "metadata": {},
   "outputs": [
    {
     "name": "stdout",
     "output_type": "stream",
     "text": [
      "enter a number1\n",
      "enter a number2\n",
      "\n",
      "before swap a= 1\n",
      "before swap a= 2\n",
      "\n",
      "after swap a= 2\n",
      "after swap a= 1\n"
     ]
    }
   ],
   "source": [
    "a=int(input(\"enter a number\"))\n",
    "b=int(input(\"enter a number\"))\n",
    "print()\n",
    "print(\"before swap a=\",a)\n",
    "print(\"before swap a=\",b)\n",
    "a,b=b,a\n",
    "print()\n",
    "print(\"after swap a=\",a)\n",
    "print(\"after swap a=\",b)"
   ]
  },
  {
   "cell_type": "code",
   "execution_count": null,
   "id": "8a1ebb68",
   "metadata": {},
   "outputs": [],
   "source": []
  }
 ],
 "metadata": {
  "kernelspec": {
   "display_name": "Python 3 (ipykernel)",
   "language": "python",
   "name": "python3"
  },
  "language_info": {
   "codemirror_mode": {
    "name": "ipython",
    "version": 3
   },
   "file_extension": ".py",
   "mimetype": "text/x-python",
   "name": "python",
   "nbconvert_exporter": "python",
   "pygments_lexer": "ipython3",
   "version": "3.9.12"
  }
 },
 "nbformat": 4,
 "nbformat_minor": 5
}
