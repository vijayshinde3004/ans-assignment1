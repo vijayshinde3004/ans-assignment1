{
 "cells": [
  {
   "cell_type": "code",
   "execution_count": null,
   "id": "e3fd213b",
   "metadata": {},
   "outputs": [],
   "source": [
    "1. Write a Python Program to find sum of array?"
   ]
  },
  {
   "cell_type": "code",
   "execution_count": 3,
   "id": "69a88c21",
   "metadata": {},
   "outputs": [
    {
     "name": "stdout",
     "output_type": "stream",
     "text": [
      "summation of the list 21\n",
      "summation of the list 21\n"
     ]
    }
   ],
   "source": [
    "arr1=[1,2,3,4,5,6]\n",
    "sum1=0\n",
    "for i in arr1:\n",
    "    sum1+=i\n",
    "print(\"summation of the list\",sum1)\n",
    "# anather way of it .\n",
    "print(\"summation of the list\",sum(arr1))"
   ]
  },
  {
   "cell_type": "code",
   "execution_count": null,
   "id": "9bd2248d",
   "metadata": {},
   "outputs": [],
   "source": [
    "2. Write a Python Program to find largest element in an array?"
   ]
  },
  {
   "cell_type": "code",
   "execution_count": 8,
   "id": "bd37016b",
   "metadata": {},
   "outputs": [
    {
     "name": "stdout",
     "output_type": "stream",
     "text": [
      "maximum number in the list 2135\n"
     ]
    }
   ],
   "source": [
    "arr2=[100,99,52,45,458,2135,235]\n",
    "max1=0\n",
    "for i in arr2:\n",
    "    if i>max1:\n",
    "        max1=i\n",
    "print(\"maximum number in the list\",max1)"
   ]
  },
  {
   "cell_type": "code",
   "execution_count": null,
   "id": "61e0d33a",
   "metadata": {},
   "outputs": [],
   "source": [
    "3. Write a Python Program for array rotation?"
   ]
  },
  {
   "cell_type": "code",
   "execution_count": 25,
   "id": "e90f8cb1",
   "metadata": {},
   "outputs": [
    {
     "name": "stdout",
     "output_type": "stream",
     "text": [
      "right rotated array is [50, 60, 70, 80, 10, 20, 30, 40]\n"
     ]
    }
   ],
   "source": [
    "arr = [10,20,30,40,50,60,70,80]\n",
    "\n",
    "arr2 = [0 for i in range(len(arr))]\n",
    "\n",
    "rot =4\n",
    "direction = 'right'\n",
    "\n",
    "if direction == 'right':\n",
    "    arr2[0:len(arr2)-rot] = arr[rot:len(arr)]\n",
    "    arr2[len(arr2)-rot : len(arr2)] = arr[0:rot]\n",
    "    print(f\"right rotated array is {arr2}\")\n",
    "elif direction == 'left':\n",
    "    arr2[0:rot] = arr[len(arr)-rot:len(arr)]\n",
    "    arr2[rot:len(arr2)] = arr[0:len(arr)-rot]\n",
    "    print(f\"left rotated array is {arr2}\")"
   ]
  },
  {
   "cell_type": "code",
   "execution_count": null,
   "id": "ff16203b",
   "metadata": {},
   "outputs": [],
   "source": [
    "4. Write a Python Program to Split the array and add the first part to the end?\n"
   ]
  },
  {
   "cell_type": "code",
   "execution_count": 21,
   "id": "78bac6c5",
   "metadata": {},
   "outputs": [
    {
     "data": {
      "text/plain": [
       "[1, 2, 3, 6, 7, 100, 200, 300, 1, 2, 3, 6]"
      ]
     },
     "execution_count": 21,
     "metadata": {},
     "output_type": "execute_result"
    }
   ],
   "source": [
    "arr = [1,2,3,6,7,100,200,300]\n",
    "b=int(len(arr)/2)\n",
    "split=arr[0:b]\n",
    "arr=arr+split\n",
    "arr"
   ]
  },
  {
   "cell_type": "code",
   "execution_count": null,
   "id": "e6814fff",
   "metadata": {},
   "outputs": [],
   "source": [
    "5. Write a Python Program to check if given array is Monotonic?"
   ]
  },
  {
   "cell_type": "code",
   "execution_count": 30,
   "id": "63ef90db",
   "metadata": {},
   "outputs": [
    {
     "name": "stdout",
     "output_type": "stream",
     "text": [
      "array is monotonic\n"
     ]
    }
   ],
   "source": [
    "arr = [7,8,9,10]\n",
    "monti = True\n",
    "montd = True\n",
    "\n",
    "for i in range(len(arr)-1):\n",
    "    if arr[1] >= arr[0]:\n",
    "        if arr[i+1] < arr[i]:\n",
    "            monti = False\n",
    "            break\n",
    "            \n",
    "for i in range(len(arr)-1):\n",
    "    if arr[1] <= arr[0]:\n",
    "        if arr[i+1] > arr[i]:\n",
    "            montd = False\n",
    "            break\n",
    "            \n",
    "if monti or montd:\n",
    "    print(\"array is monotonic\")\n",
    "else:\n",
    "    print(\"array is not monotonic\")\n",
    "        "
   ]
  },
  {
   "cell_type": "code",
   "execution_count": null,
   "id": "70ef35f9",
   "metadata": {},
   "outputs": [],
   "source": []
  }
 ],
 "metadata": {
  "kernelspec": {
   "display_name": "Python 3 (ipykernel)",
   "language": "python",
   "name": "python3"
  },
  "language_info": {
   "codemirror_mode": {
    "name": "ipython",
    "version": 3
   },
   "file_extension": ".py",
   "mimetype": "text/x-python",
   "name": "python",
   "nbconvert_exporter": "python",
   "pygments_lexer": "ipython3",
   "version": "3.9.12"
  }
 },
 "nbformat": 4,
 "nbformat_minor": 5
}
