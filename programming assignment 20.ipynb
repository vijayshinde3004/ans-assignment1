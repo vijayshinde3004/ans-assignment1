{
 "cells": [
  {
   "cell_type": "code",
   "execution_count": null,
   "id": "f9ed5dd7",
   "metadata": {},
   "outputs": [],
   "source": [
    "1.Create a function that takes a list of strings and integers, and filters out the \n",
    "list so that it returns a list of integers only.\n",
    "Examples:\n",
    "filter_list([1, 2, 3, \"a\", \"b\", 4]) ➞ [1, 2, 3, 4]\n",
    "filter_list([\"A\", 0, \"Edabit\", 1729, \"Python\", \"1729\"]) ➞ [0, 1729]\n",
    "filter_list([\"Nothing\", \"here\"]) ➞ []"
   ]
  },
  {
   "cell_type": "code",
   "execution_count": 1,
   "id": "d64578b3",
   "metadata": {},
   "outputs": [
    {
     "name": "stdout",
     "output_type": "stream",
     "text": [
      "[1, 2, 3, 4]\n",
      "[0, 1729]\n",
      "[]\n"
     ]
    }
   ],
   "source": [
    "def filter_list(in_list):\n",
    "    out_list = []\n",
    "    for ele in in_list:\n",
    "        if type(ele) == int:\n",
    "            out_list.append(ele)\n",
    "    print(out_list)\n",
    "\n",
    "filter_list([1, 2, 3, \"a\", \"b\", 4])\n",
    "filter_list([\"A\", 0, \"Edabit\", 1729, \"Python\", \"1729\"])\n",
    "filter_list([\"Nothing\", \"here\"])"
   ]
  },
  {
   "cell_type": "code",
   "execution_count": null,
   "id": "97529e2a",
   "metadata": {},
   "outputs": [],
   "source": [
    "2.Given a list of numbers, create a function which returns the list but with each \n",
    "element's index in the list added to itself. This means you add 0 to the number at index 0, add 1 to the number at index 1, etc...\n",
    "Examples:\n",
    "add_indexes([0, 0, 0, 0, 0]) ➞ [0, 1, 2, 3, 4]\n",
    "add_indexes([1, 2, 3, 4, 5]) ➞ [1, 3, 5, 7, 9]\n",
    "add_indexes([5, 4, 3, 2, 1]) ➞ [5, 5, 5, 5, 5]"
   ]
  },
  {
   "cell_type": "code",
   "execution_count": 2,
   "id": "1a2f2fc2",
   "metadata": {},
   "outputs": [
    {
     "name": "stdout",
     "output_type": "stream",
     "text": [
      "[0, 1, 2, 3, 4]\n",
      "[1, 3, 5, 7, 9]\n",
      "[5, 5, 5, 5, 5]\n"
     ]
    }
   ],
   "source": [
    "def add_indexes(in_list):\n",
    "    out_list = []\n",
    "    for ele in range(len(in_list)):\n",
    "        out_list.append(ele+in_list[ele])\n",
    "    print(out_list)\n",
    "        \n",
    "add_indexes([0, 0, 0, 0, 0])\n",
    "add_indexes([1, 2, 3, 4, 5])\n",
    "add_indexes([5, 4, 3, 2, 1])"
   ]
  },
  {
   "cell_type": "code",
   "execution_count": null,
   "id": "b3a23366",
   "metadata": {},
   "outputs": [],
   "source": [
    "3.Create a function that takes the height and radius of a cone as arguments and returns the volume of \n",
    "the cone rounded to the nearest hundredth. See the resources tab for the formula.\n",
    "Examples:\n",
    "cone_volume(3, 2) ➞ 12.57\n",
    "cone_volume(15, 6) ➞ 565.49\n",
    "cone_volume(18, 0) ➞ 0"
   ]
  },
  {
   "cell_type": "code",
   "execution_count": 4,
   "id": "b6e2e019",
   "metadata": {},
   "outputs": [
    {
     "name": "stdout",
     "output_type": "stream",
     "text": [
      "12.566370614359172\n",
      "565.4866776461628\n",
      "0.0\n"
     ]
    }
   ],
   "source": [
    "import math\n",
    "def cube_volume(height, radius):\n",
    "    output = ((math.pi)*pow(radius,2))*(height/3)\n",
    "    print(output)\n",
    "\n",
    "cube_volume(3,2) \n",
    "cube_volume(15,6)    \n",
    "cube_volume(18,0)  "
   ]
  },
  {
   "cell_type": "code",
   "execution_count": null,
   "id": "8ab54144",
   "metadata": {},
   "outputs": [],
   "source": [
    "4.This Triangular Number Sequence is generated from a pattern of dots that form a triangle.\n",
    "The first 5 numbers of the sequence, or dots, are: 1, 3, 6, 10, 15\n",
    "This means that the first triangle has just one dot, the second one has three dots, the third one has 6 dots and so on. \n",
    "Write a function that gives the number of dots with its corresponding triangle number of the sequence.\n",
    "Examples:\n",
    "triangle(1) ➞ 1\n",
    "triangle(6) ➞ 21\n",
    "triangle(215) ➞ 23220"
   ]
  },
  {
   "cell_type": "code",
   "execution_count": 5,
   "id": "7ee2a03b",
   "metadata": {},
   "outputs": [
    {
     "name": "stdout",
     "output_type": "stream",
     "text": [
      "1\n",
      "21\n",
      "23220\n"
     ]
    }
   ],
   "source": [
    "def triangle(in_num):\n",
    "    print(int((in_num)*((in_num+1)/2)))\n",
    "\n",
    "triangle(1)\n",
    "triangle(6)\n",
    "triangle(215)"
   ]
  },
  {
   "cell_type": "code",
   "execution_count": null,
   "id": "5ea4de8d",
   "metadata": {},
   "outputs": [],
   "source": [
    "5.Create a function that takes a list of numbers between 1 and 10 (excluding one number) and returns the missing number.\n",
    "Examples:\n",
    "missing_num([1, 2, 3, 4, 6, 7, 8, 9, 10]) ➞ 5\n",
    "missing_num([7, 2, 3, 6, 5, 9, 1, 4, 8]) ➞ 10\n",
    "missing_num([10, 5, 1, 2, 4, 6, 8, 3, 9]) ➞ 7"
   ]
  },
  {
   "cell_type": "code",
   "execution_count": 6,
   "id": "9ff0622b",
   "metadata": {},
   "outputs": [
    {
     "name": "stdout",
     "output_type": "stream",
     "text": [
      "[1, 2, 3, 4, 6, 7, 8, 9, 10] 5\n",
      "[7, 2, 3, 6, 5, 9, 1, 4, 8] 10\n",
      "[10, 5, 1, 2, 4, 6, 8, 3, 9] 7\n"
     ]
    }
   ],
   "source": [
    "def missing_num(in_list):\n",
    "    for i in range(1,11):\n",
    "        if i not in in_list:\n",
    "\n",
    "missing_num([1, 2, 3, 4, 6, 7, 8, 9, 10])\n",
    "missing_num([7, 2, 3, 6, 5, 9, 1, 4, 8])\n",
    "missing_num([10, 5, 1, 2, 4, 6, 8, 3, 9])"
   ]
  },
  {
   "cell_type": "code",
   "execution_count": null,
   "id": "ef73d759",
   "metadata": {},
   "outputs": [],
   "source": []
  }
 ],
 "metadata": {
  "kernelspec": {
   "display_name": "Python 3 (ipykernel)",
   "language": "python",
   "name": "python3"
  },
  "language_info": {
   "codemirror_mode": {
    "name": "ipython",
    "version": 3
   },
   "file_extension": ".py",
   "mimetype": "text/x-python",
   "name": "python",
   "nbconvert_exporter": "python",
   "pygments_lexer": "ipython3",
   "version": "3.9.12"
  }
 },
 "nbformat": 4,
 "nbformat_minor": 5
}
