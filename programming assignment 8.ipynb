{
 "cells": [
  {
   "cell_type": "code",
   "execution_count": null,
   "id": "81e4e4c1",
   "metadata": {},
   "outputs": [],
   "source": [
    "1. Write a Python Program to Add Two Matrices?"
   ]
  },
  {
   "cell_type": "code",
   "execution_count": 4,
   "id": "0afec50c",
   "metadata": {},
   "outputs": [
    {
     "data": {
      "text/plain": [
       "array([[110, 211, 312],\n",
       "       [413, 514, 615],\n",
       "       [716, 817, 918]])"
      ]
     },
     "execution_count": 4,
     "metadata": {},
     "output_type": "execute_result"
    }
   ],
   "source": [
    "import numpy as np\n",
    "a1 = np.array([[100,200,300],[400,500,600],[700,800,900]])\n",
    "a2 = np.array([[10,11,12],[13,14,15],[16,17,18]])\n",
    "a1+a2"
   ]
  },
  {
   "cell_type": "code",
   "execution_count": null,
   "id": "c42fd825",
   "metadata": {},
   "outputs": [],
   "source": [
    "2. Write a Python Program to Multiply Two Matrices?"
   ]
  },
  {
   "cell_type": "code",
   "execution_count": 10,
   "id": "20472058",
   "metadata": {},
   "outputs": [
    {
     "name": "stdout",
     "output_type": "stream",
     "text": [
      "Multiplication of matrix is \n",
      " \n",
      " [[1 2]\n",
      " [4 5]\n",
      " [7 8]] \n",
      " and \n",
      " [[10 11 12]\n",
      " [13 14 15]] \n",
      "  is \n",
      " [[ 36.  39.  42.]\n",
      " [105. 114. 123.]\n",
      " [174. 189. 204.]]\n"
     ]
    }
   ],
   "source": [
    "a1 = np.array([[1,2],[4,5],[7,8]])\n",
    "a2 = np.array([[10,11,12],[13,14,15]])\n",
    "a3 = np.zeros((a1.shape[0],a2.shape[1]))\n",
    "\n",
    "sum = 0\n",
    "n = 0\n",
    "for i in range(a1.shape[0]):\n",
    "    for j in range(a2.shape[1]):\n",
    "        for k in range(a2.shape[0]):\n",
    "            sum = sum + (a1[i][k] * a2[k][j] )\n",
    "        a3[i][j] = sum\n",
    "        sum = 0\n",
    "print(f\"Multiplication of matrix is \\n \\n {a1} \\n and \\n {a2} \\n  is \\n {a3}\")"
   ]
  },
  {
   "cell_type": "code",
   "execution_count": 5,
   "id": "727be25f",
   "metadata": {},
   "outputs": [
    {
     "data": {
      "text/plain": [
       "array([[ 1000,  2200,  3600],\n",
       "       [ 5200,  7000,  9000],\n",
       "       [11200, 13600, 16200]])"
      ]
     },
     "execution_count": 5,
     "metadata": {},
     "output_type": "execute_result"
    }
   ],
   "source": [
    "a1 = np.array([[100,200,300],[400,500,600],[700,800,900]])\n",
    "a2 = np.array([[10,11,12],[13,14,15],[16,17,18]])\n",
    "a1*a2"
   ]
  },
  {
   "cell_type": "code",
   "execution_count": null,
   "id": "fe84dbad",
   "metadata": {},
   "outputs": [],
   "source": [
    "3. Write a Python Program to Transpose a Matrix?"
   ]
  },
  {
   "cell_type": "code",
   "execution_count": 6,
   "id": "8f850394",
   "metadata": {},
   "outputs": [
    {
     "data": {
      "text/plain": [
       "array([[100, 400, 700],\n",
       "       [200, 500, 800],\n",
       "       [300, 600, 900]])"
      ]
     },
     "execution_count": 6,
     "metadata": {},
     "output_type": "execute_result"
    }
   ],
   "source": [
    "a1 = np.array([[100,200,300],[400,500,600],[700,800,900]])\n",
    "a1.T"
   ]
  },
  {
   "cell_type": "code",
   "execution_count": 8,
   "id": "43133098",
   "metadata": {},
   "outputs": [
    {
     "name": "stdout",
     "output_type": "stream",
     "text": [
      "Input matrix is \n",
      " \n",
      " [[1. 2. 3.]\n",
      " [4. 5. 6.]\n",
      " [7. 8. 9.]]\n",
      "Transpose of matrix is \n",
      " \n",
      "[[1. 4. 7.]\n",
      " [2. 5. 8.]\n",
      " [3. 6. 9.]]\n"
     ]
    }
   ],
   "source": [
    "a = np.array([[1.,2.,3.],[4.,5.,6.],[7.,8.,9.]])\n",
    "\n",
    "b = np.zeros((a.shape[0],a.shape[1]))\n",
    "print(f\"Input matrix is \\n \\n {a}\")\n",
    "\n",
    "print(\"Transpose of matrix is \\n \")\n",
    "\n",
    "for i in range(a.shape[0]):\n",
    "    b[:,i] = a[i,:]\n",
    "    \n",
    "print(b)"
   ]
  },
  {
   "cell_type": "code",
   "execution_count": null,
   "id": "e8a73688",
   "metadata": {},
   "outputs": [],
   "source": [
    "4. Write a Python Program to Sort Words in Alphabetic Order?"
   ]
  },
  {
   "cell_type": "code",
   "execution_count": 11,
   "id": "f0d3a3cd",
   "metadata": {},
   "outputs": [
    {
     "name": "stdout",
     "output_type": "stream",
     "text": [
      "Input World is : ineuron\n",
      "Output word in Sorted Aphabetical Order is :einnoru\n"
     ]
    }
   ],
   "source": [
    "test = \"ineuron\"\n",
    "result = ''.join(sorted(test))\n",
    "print(f\"Input World is : {test}\")\n",
    "print(f\"Output word in Sorted Aphabetical Order is :{result}\")"
   ]
  },
  {
   "cell_type": "code",
   "execution_count": null,
   "id": "d0e23621",
   "metadata": {},
   "outputs": [],
   "source": [
    "5. Write a Python Program to Remove Punctuation From a String?"
   ]
  },
  {
   "cell_type": "code",
   "execution_count": 12,
   "id": "076f681b",
   "metadata": {},
   "outputs": [
    {
     "name": "stdout",
     "output_type": "stream",
     "text": [
      "Input String with punctuation is \n",
      " I'm learning Python. It's easy & simple to understand \n",
      " \n",
      "Output String without punctuation is \n",
      " Im learning Python Its easy  simple to understand \n",
      " \n"
     ]
    }
   ],
   "source": [
    "teststring = \"I'm learning Python. It's easy & simple to understand\"\n",
    "\n",
    "punct = '''!@#$%^&*()-[]{};:'\"\\,<>./?_~'''\n",
    "optstring = \"\"\n",
    "for i in teststring:\n",
    "    if i not in punct:\n",
    "        optstring = optstring + i\n",
    "        \n",
    "print(f\"Input String with punctuation is \\n {teststring} \\n \")\n",
    "print(f\"Output String without punctuation is \\n {optstring} \\n \")"
   ]
  }
 ],
 "metadata": {
  "kernelspec": {
   "display_name": "Python 3 (ipykernel)",
   "language": "python",
   "name": "python3"
  },
  "language_info": {
   "codemirror_mode": {
    "name": "ipython",
    "version": 3
   },
   "file_extension": ".py",
   "mimetype": "text/x-python",
   "name": "python",
   "nbconvert_exporter": "python",
   "pygments_lexer": "ipython3",
   "version": "3.9.12"
  }
 },
 "nbformat": 4,
 "nbformat_minor": 5
}
