{
 "cells": [
  {
   "cell_type": "code",
   "execution_count": null,
   "id": "d4e31c97",
   "metadata": {},
   "outputs": [],
   "source": [
    "1. Write a Python Program to Display Fibonacci Sequence Using Recursion?"
   ]
  },
  {
   "cell_type": "code",
   "execution_count": null,
   "id": "07625441",
   "metadata": {},
   "outputs": [],
   "source": [
    "def fibo(n):\n",
    "    if n==1 or n==2:\n",
    "        return 1\n",
    "    else:\n",
    "        return (fibo(n-1)+fibo(n-2))"
   ]
  },
  {
   "cell_type": "code",
   "execution_count": null,
   "id": "5837f7d1",
   "metadata": {},
   "outputs": [],
   "source": [
    "2. Write a Python Program to Find Factorial of Number Using Recursion?"
   ]
  },
  {
   "cell_type": "code",
   "execution_count": null,
   "id": "84aa5e68",
   "metadata": {},
   "outputs": [],
   "source": [
    "def my_fact(x):\n",
    "    if x==0:\n",
    "        return 1\n",
    "        return(x* my_fact(x-1))\n",
    "    "
   ]
  },
  {
   "cell_type": "code",
   "execution_count": null,
   "id": "4285473d",
   "metadata": {},
   "outputs": [],
   "source": [
    "3. Write a Python Program to calculate your Body Mass Index?"
   ]
  },
  {
   "cell_type": "code",
   "execution_count": null,
   "id": "1f04286a",
   "metadata": {},
   "outputs": [],
   "source": [
    "def body_mass_index()\n",
    "    weight = float(input(\"Enter the weight in Kg : \"))\n",
    "    height = float(input(\"Enter the height in meter : \"))\n",
    "    bmi = weight / height ** 2\n",
    "\n",
    "print(f\"BMI is {bmi}\")"
   ]
  },
  {
   "cell_type": "code",
   "execution_count": null,
   "id": "3e3b7eef",
   "metadata": {},
   "outputs": [],
   "source": [
    "4. Write a Python Program to calculate the natural logarithm of any number?"
   ]
  },
  {
   "cell_type": "code",
   "execution_count": null,
   "id": "6b85b9ca",
   "metadata": {},
   "outputs": [],
   "source": [
    "import math\n",
    "num = 79\n",
    "print(math.log(79))"
   ]
  },
  {
   "cell_type": "code",
   "execution_count": null,
   "id": "959f6459",
   "metadata": {},
   "outputs": [],
   "source": [
    "5. Write a Python Program for cube sum of first n natural numbers?"
   ]
  },
  {
   "cell_type": "code",
   "execution_count": null,
   "id": "453fc335",
   "metadata": {},
   "outputs": [],
   "source": [
    "def cube_natural_number(num)\n",
    "    for i in range(1,num+1):\n",
    "        print(i** 3)"
   ]
  }
 ],
 "metadata": {
  "kernelspec": {
   "display_name": "Python 3 (ipykernel)",
   "language": "python",
   "name": "python3"
  },
  "language_info": {
   "codemirror_mode": {
    "name": "ipython",
    "version": 3
   },
   "file_extension": ".py",
   "mimetype": "text/x-python",
   "name": "python",
   "nbconvert_exporter": "python",
   "pygments_lexer": "ipython3",
   "version": "3.9.12"
  }
 },
 "nbformat": 4,
 "nbformat_minor": 5
}
