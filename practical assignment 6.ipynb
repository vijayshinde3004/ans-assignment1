{
 "cells": [
  {
   "cell_type": "markdown",
   "id": "c9e41fcb",
   "metadata": {},
   "source": [
    "1. Write a Python Program to Display Fibonacci Sequence Using Recursion?"
   ]
  },
  {
   "cell_type": "code",
   "execution_count": 1,
   "id": "b3fc64b5",
   "metadata": {},
   "outputs": [
    {
     "name": "stdout",
     "output_type": "stream",
     "text": [
      "enter the no5\n",
      "[1, 1, 2, 3, 5]\n"
     ]
    }
   ],
   "source": [
    "def fibo(n):\n",
    "    if n==1 or n==2:\n",
    "        return 1\n",
    "    else:\n",
    "        return (fibo(n-1)+fibo(n-2))\n",
    "    \n",
    "num=int(input(\"enter the no\"))\n",
    "\n",
    "my_fib=[]\n",
    "for i in range(1,num+1):\n",
    "    my_fib.append(fibo(i))\n",
    "    \n",
    "print(my_fib)"
   ]
  },
  {
   "cell_type": "code",
   "execution_count": null,
   "id": "dafc1fb0",
   "metadata": {},
   "outputs": [],
   "source": [
    "2. Write a Python Program to Find Factorial of Number Using Recursion?"
   ]
  },
  {
   "cell_type": "code",
   "execution_count": 2,
   "id": "54c582bd",
   "metadata": {},
   "outputs": [],
   "source": [
    "def my_fact(x):\n",
    "    if x==0:\n",
    "        return 1\n",
    "    return(x* my_fact(x-1))\n",
    "    "
   ]
  },
  {
   "cell_type": "code",
   "execution_count": 3,
   "id": "210209c6",
   "metadata": {},
   "outputs": [
    {
     "data": {
      "text/plain": [
       "120"
      ]
     },
     "execution_count": 3,
     "metadata": {},
     "output_type": "execute_result"
    }
   ],
   "source": [
    "my_fact(5)"
   ]
  },
  {
   "cell_type": "markdown",
   "id": "c6b9705c",
   "metadata": {},
   "source": [
    "3. Write a Python Program to calculate your Body Mass Index?"
   ]
  },
  {
   "cell_type": "code",
   "execution_count": 4,
   "id": "a93ecd83",
   "metadata": {},
   "outputs": [],
   "source": [
    "def body_mass_index():\n",
    "    weight = float(input(\"Enter the weight in Kg : \"))\n",
    "    height = float(input(\"Enter the height in meter : \"))\n",
    "    bmi = (weight) / (height ** 2)\n",
    "    return  bmi"
   ]
  },
  {
   "cell_type": "code",
   "execution_count": 6,
   "id": "e9a42346",
   "metadata": {},
   "outputs": [
    {
     "name": "stdout",
     "output_type": "stream",
     "text": [
      "Enter the weight in Kg : 65\n",
      "Enter the height in meter : 1.72\n"
     ]
    },
    {
     "data": {
      "text/plain": [
       "21.971335857220122"
      ]
     },
     "execution_count": 6,
     "metadata": {},
     "output_type": "execute_result"
    }
   ],
   "source": [
    "body_mass_index()"
   ]
  },
  {
   "cell_type": "markdown",
   "id": "182f3d5a",
   "metadata": {},
   "source": [
    "4. Write a Python Program to calculate the natural logarithm of any number?"
   ]
  },
  {
   "cell_type": "code",
   "execution_count": 7,
   "id": "dad36815",
   "metadata": {},
   "outputs": [
    {
     "name": "stdout",
     "output_type": "stream",
     "text": [
      "2.995732273553991\n"
     ]
    }
   ],
   "source": [
    "import math\n",
    "num = 20\n",
    "print(math.log(num))"
   ]
  },
  {
   "cell_type": "markdown",
   "id": "f30adf7a",
   "metadata": {},
   "source": [
    "5. Write a Python Program for cube sum of first n natural numbers?"
   ]
  },
  {
   "cell_type": "code",
   "execution_count": 8,
   "id": "739337c9",
   "metadata": {},
   "outputs": [],
   "source": [
    "def cube_natural_number(num):\n",
    "    for i in range(1,num+1):\n",
    "        print(i** 3)"
   ]
  },
  {
   "cell_type": "code",
   "execution_count": 9,
   "id": "e28a51fb",
   "metadata": {},
   "outputs": [
    {
     "name": "stdout",
     "output_type": "stream",
     "text": [
      "1\n",
      "8\n",
      "27\n",
      "64\n",
      "125\n"
     ]
    }
   ],
   "source": [
    "cube_natural_number(5)"
   ]
  },
  {
   "cell_type": "code",
   "execution_count": null,
   "id": "df4fd4d5",
   "metadata": {},
   "outputs": [],
   "source": []
  }
 ],
 "metadata": {
  "kernelspec": {
   "display_name": "Python 3 (ipykernel)",
   "language": "python",
   "name": "python3"
  },
  "language_info": {
   "codemirror_mode": {
    "name": "ipython",
    "version": 3
   },
   "file_extension": ".py",
   "mimetype": "text/x-python",
   "name": "python",
   "nbconvert_exporter": "python",
   "pygments_lexer": "ipython3",
   "version": "3.9.12"
  }
 },
 "nbformat": 4,
 "nbformat_minor": 5
}
